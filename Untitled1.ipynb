{
 "cells": [
  {
   "cell_type": "code",
   "execution_count": 2,
   "id": "2309029d",
   "metadata": {},
   "outputs": [
    {
     "name": "stdout",
     "output_type": "stream",
     "text": [
      "['네, 안녕하세요.', '반갑습니다.']\n"
     ]
    }
   ],
   "source": [
    "from konlpy.tag import Kkma,Hannanum\n",
    "from konlpy.utils import pprint\n",
    "\n",
    "\n",
    "hannanum = Hannanum()"
   ]
  },
  {
   "cell_type": "code",
   "execution_count": 12,
   "id": "adf01e89",
   "metadata": {},
   "outputs": [
    {
     "name": "stdout",
     "output_type": "stream",
     "text": [
      "['삼성전자', '영업익', '96', '급감', '반도체', '감산']\n"
     ]
    }
   ],
   "source": [
    "from konlpy.tag import Kkma,Hannanum\n",
    "\n",
    "hannanum = Hannanum()\n",
    "print(hannanum.nouns('삼성전자 영업익 96% 급감, 반도체 감산'))\n"
   ]
  },
  {
   "cell_type": "code",
   "execution_count": 9,
   "id": "b66b2bf5",
   "metadata": {},
   "outputs": [
    {
     "name": "stdout",
     "output_type": "stream",
     "text": [
      "[('삼성전자', 'NNG'), ('가', 'JKS'), ('살리', 'VV'), ('ㄴ', 'ETD'), ('코스', 'NNG'), ('피', 'NNG'), (',', 'SP'), ('2500', 'NR'), ('돌파', 'NNG'), ('눈앞', 'NNG'), ('…', 'SE'), ('\"', 'SS'), ('9', 'NR'), ('만', 'JX'), ('전자', 'NNG'), ('갈', 'VV'), ('ㄴ다', 'ECS'), ('\"', 'SS')]\n"
     ]
    }
   ],
   "source": [
    "print(kkma.pos(u'삼성전자가 살린 코스피, 2500 돌파 눈앞…\"9만전자 간다\"'))"
   ]
  },
  {
   "cell_type": "code",
   "execution_count": 6,
   "id": "1d2fe666",
   "metadata": {},
   "outputs": [
    {
     "name": "stdout",
     "output_type": "stream",
     "text": [
      "검색어 입력: 삼성전자\n",
      "[따져보니] 삼성전자, 25년만의 '감산'…의미와 배경은? http://news.tvchosun.com/site/data/html_dir/2023/04/09/2023040990085.html\n",
      "삼성전자 노태문 사장, 도미니카 부통령과 '사업 협력' 논의 http://www.newsis.com/view/?id=NISX20230409_0002259245&cID=13001&pID=13000\n",
      "“최신 기술이 집약된 스크린”…삼성전자 네오 QLED, 해외 매체서 호평 https://biz.chosun.com/it-science/ict/2023/04/09/W5LPP7GQAFEHDHNFJD7E3GV7EA/?utm_source=naver&utm_medium=original&utm_campaign=biz\n",
      "\"저게 보여?\"…삼성전자가 건물 외벽에 '깨알 광고' 한 이유 https://www.hankyung.com/it/article/202304095161g\n",
      "삼성전자 '메모리 감산'…3가지 핵심 포인트는? [biz-플러스] https://www.sedaily.com/NewsView/29O8XJHOH5\n",
      "삼성전자 실적충격…'세수펑크'가속화하나 http://www.fnnews.com/news/202304071435003477\n",
      "'감산결정' 삼성전자에 외국인 '통큰 쇼핑' 이어질까 [이코노 株인공] https://economist.co.kr/article/view/ecn202304070040\n",
      "애증의 삼성전자株, 떠나는 개인 vs 외인은 줍줍[반도체株 봄이 온다] http://www.edaily.co.kr/news/newspath.asp?newsid=01226726635574808\n",
      "삼성전자, 방한 도미니카共 부통령에 부산엑스포 지지 요청 https://www.donga.com/news/Economy/article/all/20230409/118753878/1\n",
      "\"삼성전자 제친다\"…떠오르는 한국의 '1등 산업' https://www.hankyung.com/economy/article/2023040951077\n"
     ]
    }
   ],
   "source": [
    "import requests\n",
    "from bs4 import BeautifulSoup\n",
    "\n",
    "keyword = input(\"검색어 입력: \")\n",
    "response = requests.get(\"https://search.naver.com/search.naver?where=news&sm=tab_jum&query=\"+keyword)\n",
    "html = response.text\n",
    "\n",
    "soup = BeautifulSoup(html,'html.parser')\n",
    "# html에서 뉴스 제목 부분의 클래스 명\n",
    "# a 태그의 정보가 리스트 형태로 담긴다!\n",
    "links = soup.select(\".news_tit\")    \n",
    "\n",
    "for link in links:\n",
    "    title = link.text # 테그 안에 텍스트 요소를 가져옴\n",
    "    url = link.attrs['href']    # href의 속성값을 가져옴\n",
    "    print(title,url)"
   ]
  },
  {
   "cell_type": "code",
   "execution_count": 13,
   "id": "d2301f2f",
   "metadata": {},
   "outputs": [
    {
     "name": "stdout",
     "output_type": "stream",
     "text": [
      "{'neg': 0.239, 'neu': 0.761, 'pos': 0.0, 'compound': -0.296}\n"
     ]
    }
   ],
   "source": [
    "from nltk.sentiment.vader import SentimentIntensityAnalyzer\n",
    "\n",
    "senti_analyzer = SentimentIntensityAnalyzer()\n",
    "# pos : 긍정 감성 지수. neg : 부정 감성 지수, compound : neg,post,neu 를 적절히 조합해 -1 ~ 1 사이의 감성 지수를 표현한 값 \n",
    "senti_scores = senti_analyzer.polarity_scores('Samsung Electronics manufacturers 96% decline, semiconductor production cuts')\n",
    "# 보통 0.1 이상이면 긍정, 그 이하면 부정으로 판단하나 이 임계값은 상황에 따라 임계값을 조절 가능\n",
    "print(senti_scores)"
   ]
  },
  {
   "cell_type": "code",
   "execution_count": null,
   "id": "2976312d",
   "metadata": {},
   "outputs": [],
   "source": []
  }
 ],
 "metadata": {
  "kernelspec": {
   "display_name": "Python 3 (ipykernel)",
   "language": "python",
   "name": "python3"
  },
  "language_info": {
   "codemirror_mode": {
    "name": "ipython",
    "version": 3
   },
   "file_extension": ".py",
   "mimetype": "text/x-python",
   "name": "python",
   "nbconvert_exporter": "python",
   "pygments_lexer": "ipython3",
   "version": "3.9.7"
  }
 },
 "nbformat": 4,
 "nbformat_minor": 5
}
