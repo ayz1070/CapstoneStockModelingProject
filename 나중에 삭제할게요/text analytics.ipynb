{
 "cells": [
  {
   "cell_type": "markdown",
   "id": "eb24308f",
   "metadata": {},
   "source": [
    "from nltk import sent_tokenize\n",
    "import nltk"
   ]
  },
  {
   "cell_type": "code",
   "execution_count": 3,
   "id": "dfe29b1b",
   "metadata": {
    "scrolled": false
   },
   "outputs": [
    {
     "name": "stderr",
     "output_type": "stream",
     "text": [
      "[nltk_data] Downloading package punkt to\n",
      "[nltk_data]     C:\\Users\\ahn\\AppData\\Roaming\\nltk_data...\n",
      "[nltk_data]   Unzipping tokenizers\\punkt.zip.\n"
     ]
    },
    {
     "data": {
      "text/plain": [
       "True"
      ]
     },
     "execution_count": 3,
     "metadata": {},
     "output_type": "execute_result"
    }
   ],
   "source": [
    "nltk.download('punkt')"
   ]
  },
  {
   "cell_type": "markdown",
   "id": "587d55b5",
   "metadata": {},
   "source": [
    "#### 문장 토큰화\n",
    "\n",
    "text_sample = 'The Matrix is everywhere. It is all around us. Even now, in this very room. \\\n",
    "You can see it when you look out your window or when you turn on your television. \\\n",
    "You can feel it when you go to work, when you go to church or pay your taxes.'\n",
    "\n",
    "# 문장을 개행이나 마침표로 나눈다.\n",
    "sentences = sent_tokenize(text=text_sample)"
   ]
  },
  {
   "cell_type": "code",
   "execution_count": 8,
   "id": "0f94aef9",
   "metadata": {
    "scrolled": true
   },
   "outputs": [
    {
     "name": "stdout",
     "output_type": "stream",
     "text": [
      "<class 'list'> 5\n",
      "['The Matrix is everywhere.', 'It is all around us.', 'Even now, in this very room.', 'You can see it when you look out your window or when you turn on your television.', 'You can feel it when you go to work, when you go to church or pay your taxes.']\n"
     ]
    }
   ],
   "source": [
    "print(type(sentences),len(sentences))\n",
    "print(sentences)"
   ]
  },
  {
   "cell_type": "code",
   "execution_count": 4,
   "id": "f33e1a9d",
   "metadata": {},
   "outputs": [],
   "source": [
    "# 단어 토큰화\n",
    "\n",
    "from nltk import word_tokenize\n",
    "\n",
    "def tokenize_text(text):\n",
    "    sentences = sent_tokenize(text)\n",
    "    word_tokens = [word_tokenize(sentence) for sentence in sentences]\n",
    "    return word_tokens\n",
    "\n"
   ]
  },
  {
   "cell_type": "code",
   "execution_count": 8,
   "id": "133303cb",
   "metadata": {},
   "outputs": [
    {
     "name": "stdout",
     "output_type": "stream",
     "text": [
      "<generator object <genexpr> at 0x000002258F77F120>\n"
     ]
    }
   ],
   "source": [
    "# n-gram\n",
    "\n",
    "from nltk import ngrams\n",
    "\n",
    "sentence = \"The Matrix is everywhere. It is all around us. Even now, in this very room.\"\n",
    "words = word_tokenize(sentence)\n",
    "\n",
    "all_ngrams=ngrams(words,3)\n",
    "ngrams=(ngram for ngrams in all_ngrams)\n",
    "print(ngrams)"
   ]
  },
  {
   "cell_type": "code",
   "execution_count": null,
   "id": "b716cabe",
   "metadata": {},
   "outputs": [],
   "source": []
  }
 ],
 "metadata": {
  "kernelspec": {
   "display_name": "Python 3 (ipykernel)",
   "language": "python",
   "name": "python3"
  },
  "language_info": {
   "codemirror_mode": {
    "name": "ipython",
    "version": 3
   },
   "file_extension": ".py",
   "mimetype": "text/x-python",
   "name": "python",
   "nbconvert_exporter": "python",
   "pygments_lexer": "ipython3",
   "version": "3.9.7"
  }
 },
 "nbformat": 4,
 "nbformat_minor": 5
}
