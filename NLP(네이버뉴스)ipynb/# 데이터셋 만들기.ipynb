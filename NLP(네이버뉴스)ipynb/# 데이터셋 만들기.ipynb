{
 "cells": [
  {
   "cell_type": "code",
   "execution_count": 3,
   "id": "d62f1f47",
   "metadata": {},
   "outputs": [],
   "source": [
    "import pandas as pd\n",
    "\n",
    "# csv\n",
    "# samsung_df = pd.read_csv(f'csv/samsung_data_set.csv',encoding='cp949')\n",
    "# kakao_df = pd.read_csv(f'csv/카카오 뉴스 제목8.csv',encoding='cp949')\n",
    "# sk_df = pd.read_csv(f'csv/sk_data_label.csv',encoding='cp949')\n",
    "# hyundai_df = pd.read_csv(f'csv/hyundai_data_label.csv',encoding='cp949')\n",
    "\n",
    "# samsung_df.dropna(inplace=True)\n",
    "# kakao_df.dropna(inplace=True)\n",
    "# sk_df.dropna(inplace=True)\n",
    "# hyundai_df.dropna(inplace=True)\n",
    "\n",
    "new_kakao_df = pd.read_csv(f'csv/카카오 뉴스 제목 부정.csv',encoding='cp949')\n",
    "tot_df = pd.read_csv(f'csv/self_labeled_data.csv')"
   ]
  },
  {
   "cell_type": "code",
   "execution_count": 43,
   "id": "5501c799",
   "metadata": {},
   "outputs": [],
   "source": [
    "# total_df = pd.concat([samsung_df,kakao_df,sk_df,hyundai_df])\n",
    "# total_df = total_df.reset_index()\n",
    "# total_df = total_df.drop('index',axis=1)"
   ]
  },
  {
   "cell_type": "code",
   "execution_count": 4,
   "id": "bdf91e21",
   "metadata": {},
   "outputs": [
    {
     "data": {
      "text/html": [
       "<div>\n",
       "<style scoped>\n",
       "    .dataframe tbody tr th:only-of-type {\n",
       "        vertical-align: middle;\n",
       "    }\n",
       "\n",
       "    .dataframe tbody tr th {\n",
       "        vertical-align: top;\n",
       "    }\n",
       "\n",
       "    .dataframe thead th {\n",
       "        text-align: right;\n",
       "    }\n",
       "</style>\n",
       "<table border=\"1\" class=\"dataframe\">\n",
       "  <thead>\n",
       "    <tr style=\"text-align: right;\">\n",
       "      <th></th>\n",
       "      <th>date</th>\n",
       "      <th>title</th>\n",
       "      <th>self_label</th>\n",
       "    </tr>\n",
       "  </thead>\n",
       "  <tbody>\n",
       "    <tr>\n",
       "      <th>0</th>\n",
       "      <td>2021-09-15 20:12</td>\n",
       "      <td>[단독] 김범수 동생, 카카오 '옥상옥 지주사'서 퇴직금만 14억</td>\n",
       "      <td>1</td>\n",
       "    </tr>\n",
       "    <tr>\n",
       "      <th>1</th>\n",
       "      <td>2021-09-15 6:01</td>\n",
       "      <td>카카오 세상' 꿈꿨지만…택시 90% 완전 장악이 독 됐다</td>\n",
       "      <td>0</td>\n",
       "    </tr>\n",
       "    <tr>\n",
       "      <th>2</th>\n",
       "      <td>2021-09-15 19:52</td>\n",
       "      <td>[단독]국회 정무위, 카카오 김범수 '공정위 국감' 증인대 세운다</td>\n",
       "      <td>0</td>\n",
       "    </tr>\n",
       "    <tr>\n",
       "      <th>3</th>\n",
       "      <td>2021-09-15 9:29</td>\n",
       "      <td>카카오엔터테인먼트, 경력 개발자 첫 공개채용…최대 세 자릿수 규모</td>\n",
       "      <td>1</td>\n",
       "    </tr>\n",
       "    <tr>\n",
       "      <th>4</th>\n",
       "      <td>2021-09-15 7:27</td>\n",
       "      <td>카카오 김범수 공정위 조사…“고의성 입증시 검찰 고발”</td>\n",
       "      <td>0</td>\n",
       "    </tr>\n",
       "    <tr>\n",
       "      <th>...</th>\n",
       "      <td>...</td>\n",
       "      <td>...</td>\n",
       "      <td>...</td>\n",
       "    </tr>\n",
       "    <tr>\n",
       "      <th>94</th>\n",
       "      <td>2021-09-15 13:00</td>\n",
       "      <td>전방위 압박에 카카오 상생방안 발표...규제 피할까?</td>\n",
       "      <td>0</td>\n",
       "    </tr>\n",
       "    <tr>\n",
       "      <th>95</th>\n",
       "      <td>2021-09-15 11:53</td>\n",
       "      <td>착잡·당혹…뒤숭숭한 카카오 직원들</td>\n",
       "      <td>0</td>\n",
       "    </tr>\n",
       "    <tr>\n",
       "      <th>96</th>\n",
       "      <td>2021-09-15 11:45</td>\n",
       "      <td>네이버·카카오페이, '소상공인 수수료' 카드사보다 최대 3배 높아</td>\n",
       "      <td>0</td>\n",
       "    </tr>\n",
       "    <tr>\n",
       "      <th>97</th>\n",
       "      <td>2021-09-15 3:02</td>\n",
       "      <td>백기 든 카카오, 골목상권 손뗀다</td>\n",
       "      <td>0</td>\n",
       "    </tr>\n",
       "    <tr>\n",
       "      <th>98</th>\n",
       "      <td>2021-09-15 8:25</td>\n",
       "      <td>[그래픽] 공정위 조사받는 카카오 김범수 의장, 주요 쟁점</td>\n",
       "      <td>0</td>\n",
       "    </tr>\n",
       "  </tbody>\n",
       "</table>\n",
       "<p>99 rows × 3 columns</p>\n",
       "</div>"
      ],
      "text/plain": [
       "                date                                 title  self_label\n",
       "0   2021-09-15 20:12  [단독] 김범수 동생, 카카오 '옥상옥 지주사'서 퇴직금만 14억           1\n",
       "1    2021-09-15 6:01       카카오 세상' 꿈꿨지만…택시 90% 완전 장악이 독 됐다           0\n",
       "2   2021-09-15 19:52  [단독]국회 정무위, 카카오 김범수 '공정위 국감' 증인대 세운다           0\n",
       "3    2021-09-15 9:29  카카오엔터테인먼트, 경력 개발자 첫 공개채용…최대 세 자릿수 규모           1\n",
       "4    2021-09-15 7:27        카카오 김범수 공정위 조사…“고의성 입증시 검찰 고발”           0\n",
       "..               ...                                   ...         ...\n",
       "94  2021-09-15 13:00         전방위 압박에 카카오 상생방안 발표...규제 피할까?           0\n",
       "95  2021-09-15 11:53                    착잡·당혹…뒤숭숭한 카카오 직원들           0\n",
       "96  2021-09-15 11:45  네이버·카카오페이, '소상공인 수수료' 카드사보다 최대 3배 높아           0\n",
       "97   2021-09-15 3:02                    백기 든 카카오, 골목상권 손뗀다           0\n",
       "98   2021-09-15 8:25      [그래픽] 공정위 조사받는 카카오 김범수 의장, 주요 쟁점           0\n",
       "\n",
       "[99 rows x 3 columns]"
      ]
     },
     "execution_count": 4,
     "metadata": {},
     "output_type": "execute_result"
    }
   ],
   "source": [
    "new_kakao_df"
   ]
  },
  {
   "cell_type": "code",
   "execution_count": 2,
   "id": "0627c0ce",
   "metadata": {},
   "outputs": [
    {
     "ename": "NameError",
     "evalue": "name 'total_df' is not defined",
     "output_type": "error",
     "traceback": [
      "\u001b[1;31m---------------------------------------------------------------------------\u001b[0m",
      "\u001b[1;31mNameError\u001b[0m                                 Traceback (most recent call last)",
      "Cell \u001b[1;32mIn[2], line 1\u001b[0m\n\u001b[1;32m----> 1\u001b[0m \u001b[43mtotal_df\u001b[49m\u001b[38;5;241m.\u001b[39mto_csv(\u001b[38;5;124mf\u001b[39m\u001b[38;5;124m'\u001b[39m\u001b[38;5;124mcsv/total_df.csv\u001b[39m\u001b[38;5;124m'\u001b[39m, index\u001b[38;5;241m=\u001b[39m\u001b[38;5;28;01mFalse\u001b[39;00m)\n",
      "\u001b[1;31mNameError\u001b[0m: name 'total_df' is not defined"
     ]
    }
   ],
   "source": [
    "total_df.to_csv(f'csv/total_df.csv', index=False)"
   ]
  },
  {
   "cell_type": "code",
   "execution_count": 3,
   "id": "be1cb8c1",
   "metadata": {},
   "outputs": [],
   "source": [
    "total_df = pd.read_csv('csv/total_df.csv',encoding='cp949')"
   ]
  },
  {
   "cell_type": "code",
   "execution_count": 4,
   "id": "4afac45f",
   "metadata": {},
   "outputs": [
    {
     "data": {
      "text/html": [
       "<div>\n",
       "<style scoped>\n",
       "    .dataframe tbody tr th:only-of-type {\n",
       "        vertical-align: middle;\n",
       "    }\n",
       "\n",
       "    .dataframe tbody tr th {\n",
       "        vertical-align: top;\n",
       "    }\n",
       "\n",
       "    .dataframe thead th {\n",
       "        text-align: right;\n",
       "    }\n",
       "</style>\n",
       "<table border=\"1\" class=\"dataframe\">\n",
       "  <thead>\n",
       "    <tr style=\"text-align: right;\">\n",
       "      <th></th>\n",
       "      <th>date</th>\n",
       "      <th>title</th>\n",
       "      <th>self_label</th>\n",
       "    </tr>\n",
       "  </thead>\n",
       "  <tbody>\n",
       "    <tr>\n",
       "      <th>0</th>\n",
       "      <td>2023-05-30 9:00</td>\n",
       "      <td>삼성전자, 갤럭시·노트북·TV서 '자가 수리' 국내 도입</td>\n",
       "      <td>1</td>\n",
       "    </tr>\n",
       "    <tr>\n",
       "      <th>1</th>\n",
       "      <td>2023-05-30 10:43</td>\n",
       "      <td>삼성전자 갤럭시, 이제 내손으로 고친다</td>\n",
       "      <td>1</td>\n",
       "    </tr>\n",
       "    <tr>\n",
       "      <th>2</th>\n",
       "      <td>2023-05-30 11:09</td>\n",
       "      <td>[특징주] 삼성전자·SK하이닉스, 52주 신고가 기록</td>\n",
       "      <td>1</td>\n",
       "    </tr>\n",
       "    <tr>\n",
       "      <th>3</th>\n",
       "      <td>2023-05-30 14:01</td>\n",
       "      <td>\"청년에 일경험\"…SK하이닉스·삼성전자 등 2100명 모집</td>\n",
       "      <td>1</td>\n",
       "    </tr>\n",
       "    <tr>\n",
       "      <th>4</th>\n",
       "      <td>2023-05-30 11:21</td>\n",
       "      <td>작년 주주 배당액 1위는 삼성전자…총 배당금은 6.7%↓</td>\n",
       "      <td>0</td>\n",
       "    </tr>\n",
       "    <tr>\n",
       "      <th>...</th>\n",
       "      <td>...</td>\n",
       "      <td>...</td>\n",
       "      <td>...</td>\n",
       "    </tr>\n",
       "    <tr>\n",
       "      <th>552</th>\n",
       "      <td>2023-06-05 18:28</td>\n",
       "      <td>울산 현대, 임금 인상·고용 안정 놓고 올 임단협도 험로 예고</td>\n",
       "      <td>0</td>\n",
       "    </tr>\n",
       "    <tr>\n",
       "      <th>553</th>\n",
       "      <td>2023-06-05 16:30</td>\n",
       "      <td>현대차·이케아코리아, 광명점서 친환경차 전시</td>\n",
       "      <td>1</td>\n",
       "    </tr>\n",
       "    <tr>\n",
       "      <th>554</th>\n",
       "      <td>2023-06-06 12:37</td>\n",
       "      <td>‘커넥티드카’ 기술경쟁 심화…5G-V2X 한국이 선도</td>\n",
       "      <td>1</td>\n",
       "    </tr>\n",
       "    <tr>\n",
       "      <th>555</th>\n",
       "      <td>2023-06-06 10:25</td>\n",
       "      <td>\"전기차로 전국일주\" 싱가포르 관광객 제주 입도</td>\n",
       "      <td>1</td>\n",
       "    </tr>\n",
       "    <tr>\n",
       "      <th>556</th>\n",
       "      <td>2023-06-05 17:46</td>\n",
       "      <td>노란봉투법 닮은꼴' 현대차 파업 소송, 대법 전원합의체 심리</td>\n",
       "      <td>0</td>\n",
       "    </tr>\n",
       "  </tbody>\n",
       "</table>\n",
       "<p>557 rows × 3 columns</p>\n",
       "</div>"
      ],
      "text/plain": [
       "                 date                               title  self_label\n",
       "0     2023-05-30 9:00     삼성전자, 갤럭시·노트북·TV서 '자가 수리' 국내 도입           1\n",
       "1    2023-05-30 10:43               삼성전자 갤럭시, 이제 내손으로 고친다           1\n",
       "2    2023-05-30 11:09       [특징주] 삼성전자·SK하이닉스, 52주 신고가 기록           1\n",
       "3    2023-05-30 14:01    \"청년에 일경험\"…SK하이닉스·삼성전자 등 2100명 모집           1\n",
       "4    2023-05-30 11:21     작년 주주 배당액 1위는 삼성전자…총 배당금은 6.7%↓           0\n",
       "..                ...                                 ...         ...\n",
       "552  2023-06-05 18:28  울산 현대, 임금 인상·고용 안정 놓고 올 임단협도 험로 예고           0\n",
       "553  2023-06-05 16:30            현대차·이케아코리아, 광명점서 친환경차 전시           1\n",
       "554  2023-06-06 12:37       ‘커넥티드카’ 기술경쟁 심화…5G-V2X 한국이 선도           1\n",
       "555  2023-06-06 10:25          \"전기차로 전국일주\" 싱가포르 관광객 제주 입도           1\n",
       "556  2023-06-05 17:46   노란봉투법 닮은꼴' 현대차 파업 소송, 대법 전원합의체 심리           0\n",
       "\n",
       "[557 rows x 3 columns]"
      ]
     },
     "execution_count": 4,
     "metadata": {},
     "output_type": "execute_result"
    }
   ],
   "source": [
    "total_df"
   ]
  },
  {
   "cell_type": "code",
   "execution_count": null,
   "id": "b57818f5",
   "metadata": {},
   "outputs": [
    {
     "name": "stderr",
     "output_type": "stream",
     "text": [
      "You passed along `num_labels=3` with an incompatible id to label map: {'0': 'NEGATIVE', '1': 'POSITIVE'}. The number of labels wil be overwritten to 2.\n",
      "Some weights of BartForSequenceClassification were not initialized from the model checkpoint at hyunwoongko/kobart and are newly initialized: ['classification_head.out_proj.weight', 'classification_head.dense.bias', 'classification_head.dense.weight', 'classification_head.out_proj.bias']\n",
      "You should probably TRAIN this model on a down-stream task to be able to use it for predictions and inference.\n"
     ]
    }
   ],
   "source": [
    "# 남은 할일 \n",
    "# 기사 제목 끌고 와서 라벨링 해준다\n",
    "# 그 데이터 가지고 정확도를 예측한다. 이 때 사용될 건 accuracy, f1 score \n",
    "\n",
    "import pandas as pd\n",
    "from konlpy.tag import Hannanum  # Hannanum 형태소 분석기 불러오기\n",
    "import torch\n",
    "from transformers import AutoTokenizer, AutoModelForSequenceClassification\n",
    "\n",
    "\n",
    "# csv\n",
    "df = pd.read_csv(f'csv/total_df.csv',encoding=\"cp949\")\n",
    "df = new_kakao_df\n",
    "# df = pd.read_csv(f'csv/kakao_data_label.csv',encoding='cp949') # encoding='cp949'\n",
    "# KoELECTRA 모델 로드\n",
    "model_name = \"hyunwoongko/kobart\"\n",
    "tokenizer = AutoTokenizer.from_pretrained(model_name)\n",
    "model = AutoModelForSequenceClassification.from_pretrained(model_name)\n",
    "device = torch.device(\"cuda\" if torch.cuda.is_available() else \"cpu\")\n",
    "model.to(device)\n",
    "\n",
    "# 형태소 분석 함수\n",
    "hannanum = Hannanum()  # Hannanum 형태소 분석기 객체 생성\n",
    "def tokenize(text):\n",
    "    return hannanum.morphs(text)\n",
    "\n",
    "# df['content'] = df['title']\n",
    "\n",
    "# title 열에 대해 형태소 분석 적용\n",
    "\n",
    "df['title'] = df['title'].astype(str).apply(tokenize)\n",
    "# for i in range(df.shape[0]):\n",
    "#     df.iloc[i,1] = df.iloc[i,1].apply(tokenize)\n",
    "\n",
    "\n",
    "# 감성 분석을 위한 전처리 함수\n",
    "def preprocess(text):\n",
    "    inputs = tokenizer(text, padding=True, truncation=True, return_tensors=\"pt\")\n",
    "    inputs.to(device)\n",
    "    return inputs\n",
    "\n",
    "# 예측 함수\n",
    "def predict(inputs):\n",
    "    outputs = model(**inputs)\n",
    "    logits = outputs.logits\n",
    "    probs = logits.softmax(dim=-1)\n",
    "    return probs[0].detach().cpu().numpy()\n",
    "\n",
    "# title을 예측해서 수치화시켜 sentiment으로 저장. 즉, title를 수치화 시킨 것이 sentiment\n",
    "df['sentiment'] = df['title'].apply(lambda x: predict(preprocess(' '.join(x))))\n",
    "\n",
    "# 0.5 기준으로 하면 부정확하긴 함... 정확도를 높이려면 이 부분 건들면 좋을 듯 또는 중립을 포함시키는 것도 해봐야 할 듯\n",
    "def convert_sentiment(probs):\n",
    "    if probs[0] < 0.5:\n",
    "        return 0\n",
    "    elif probs[0]>= 0.5:\n",
    "        return 1\n",
    "#     else:\n",
    "#         return '중립'\n",
    "\n",
    "# train할 label은 제목을 읽고 내가 직접 라벨링\n",
    "# test할 label은 0.5를 기준으로 sentiment가 0.5보다 크면 1, 작으면 0으로 기준 세움\n",
    "df['label'] = df['sentiment'].apply(convert_sentiment)\n",
    "df['sentiment'] = df['sentiment'].apply(lambda x: x[0]).tolist()\n",
    "df=round(df,2)"
   ]
  },
  {
   "cell_type": "code",
   "execution_count": null,
   "id": "5b8e8b8d",
   "metadata": {},
   "outputs": [],
   "source": [
    "#df.to_csv(f'csv/labeled_total_df.csv', index=False)\n",
    "df.to_csv(f'csv/labeled_카카오.csv',index=False)"
   ]
  },
  {
   "cell_type": "code",
   "execution_count": 70,
   "id": "3267b34c",
   "metadata": {},
   "outputs": [],
   "source": [
    "# df.to_csv(f'csv/test_06060840.csv', index=False)"
   ]
  },
  {
   "cell_type": "code",
   "execution_count": 9,
   "id": "052a6efc",
   "metadata": {
    "scrolled": true
   },
   "outputs": [],
   "source": [
    "from sklearn.model_selection import train_test_split\n",
    "import numpy as np\n",
    "\n",
    "# X_train = np.expand_dims(samsung_train['sentiment'].values,axis=1)\n",
    "# X_test =np.expand_dims(samsung_test['sentiment'].values,axis=1)\n",
    "# y_train =np.expand_dims(samsung_train['label'].values,axis=1)\n",
    "# y_test = np.expand_dims(samsung_test['label'].values,axis=1)\n",
    "\n",
    "\n",
    "X = np.expand_dims(df['sentiment'].values,axis=1)\n",
    "y = np.expand_dims(df['self_label'].values,axis=1)\n",
    "X_train, X_test, y_train, y_test = train_test_split(X, y, test_size=0.2, random_state=156)\n"
   ]
  },
  {
   "cell_type": "code",
   "execution_count": 10,
   "id": "e44d638c",
   "metadata": {},
   "outputs": [
    {
     "name": "stdout",
     "output_type": "stream",
     "text": [
      "DecisionTreeClassifier 정확도: 0.8571428571428571\n",
      "RandomForestClassifier 정확도: 0.8660714285714286\n",
      "LogisticRegression 정확도: 0.8660714285714286\n"
     ]
    },
    {
     "name": "stderr",
     "output_type": "stream",
     "text": [
      "C:\\Users\\ahn\\AppData\\Local\\Temp\\ipykernel_14908\\993524692.py:17: DataConversionWarning: A column-vector y was passed when a 1d array was expected. Please change the shape of y to (n_samples,), for example using ravel().\n",
      "  rf_clf.fit(X_train,y_train)\n",
      "C:\\Users\\ahn\\anaconda3\\envs\\CapstonStockProject\\lib\\site-packages\\sklearn\\utils\\validation.py:1143: DataConversionWarning: A column-vector y was passed when a 1d array was expected. Please change the shape of y to (n_samples, ), for example using ravel().\n",
      "  y = column_or_1d(y, warn=True)\n"
     ]
    }
   ],
   "source": [
    "from sklearn.tree import DecisionTreeClassifier\n",
    "from sklearn.ensemble import RandomForestClassifier\n",
    "from sklearn.linear_model import LogisticRegression\n",
    "from sklearn.metrics import accuracy_score\n",
    "\n",
    "# 결정트리, Random Forest, 로지스틱 회귀를 위한 사이킷런 Classifier 클래스 생성\n",
    "dt_clf = DecisionTreeClassifier(random_state=11)\n",
    "rf_clf = RandomForestClassifier(random_state=11)\n",
    "lr_clf = LogisticRegression(solver='liblinear')\n",
    "\n",
    "# DecisionTreeClassifier 학습/예측/평가\n",
    "dt_clf.fit(X_train,y_train)\n",
    "dt_pred = dt_clf.predict(X_test)\n",
    "print(f'DecisionTreeClassifier 정확도: {accuracy_score(y_test,dt_pred)}')\n",
    "\n",
    "# RandomForestClassifier 학습/예측/평가\n",
    "rf_clf.fit(X_train,y_train)\n",
    "rf_pred = rf_clf.predict(X_test)\n",
    "print(f\"RandomForestClassifier 정확도: {accuracy_score(y_test,rf_pred)}\")\n",
    "\n",
    "# LogisticRegression 학습/예측/평가\n",
    "lr_clf.fit(X_train,y_train)\n",
    "lr_pred = lr_clf.predict(X_test)\n",
    "print(f\"LogisticRegression 정확도: {accuracy_score(y_test,lr_pred)}\")"
   ]
  },
  {
   "cell_type": "code",
   "execution_count": 11,
   "id": "e95b999e",
   "metadata": {},
   "outputs": [
    {
     "name": "stdout",
     "output_type": "stream",
     "text": [
      "[1 1 1 1 1 1 1 1 1 1 1 1 1 1 1 1 1 1 1 1 1 1 1 1 1 1 1 1 1 1 1 1 1 1 1 1 1\n",
      " 1 1 1 1 1 1 1 1 1 1 1 1 1 1 1 1 1 1 1 1 1 1 1 1 1 1 1 1 1 1 1 1 1 1 1 1 0\n",
      " 1 1 1 1 1 1 1 1 1 1 1 1 1 1 1 1 1 1 1 1 1 1 1 1 1 1 1 1 1 1 1 1 1 1 1 1 1\n",
      " 1]\n",
      "[1 1 1 1 1 1 1 1 1 1 1 1 1 1 1 1 1 1 1 1 1 1 1 1 1 1 1 1 1 1 1 1 1 1 1 1 1\n",
      " 1 1 1 1 1 1 1 1 1 1 1 1 1 1 1 1 1 1 1 1 1 1 1 1 1 1 1 1 1 1 1 1 1 1 1 1 1\n",
      " 1 1 1 1 1 1 1 1 1 1 1 1 1 1 1 1 1 1 1 1 1 1 1 1 1 1 1 1 1 1 1 1 1 1 1 1 1\n",
      " 1]\n",
      "[1 1 1 1 1 1 1 1 1 1 1 1 1 1 1 1 1 1 1 1 1 1 1 1 1 1 1 1 1 1 1 1 1 1 1 1 1\n",
      " 1 1 1 1 1 1 1 1 1 1 1 1 1 1 1 1 1 1 1 1 1 1 1 1 1 1 1 1 1 1 1 1 1 1 1 1 1\n",
      " 1 1 1 1 1 1 1 1 1 1 1 1 1 1 1 1 1 1 1 1 1 1 1 1 1 1 1 1 1 1 1 1 1 1 1 1 1\n",
      " 1]\n"
     ]
    }
   ],
   "source": [
    "print(dt_pred)\n",
    "print(rf_pred)\n",
    "print(lr_pred)"
   ]
  },
  {
   "cell_type": "code",
   "execution_count": 12,
   "id": "fd75b52c",
   "metadata": {},
   "outputs": [
    {
     "name": "stdout",
     "output_type": "stream",
     "text": [
      "상승을 에측\n"
     ]
    }
   ],
   "source": [
    "count_1 = 0\n",
    "count_0 = 0\n",
    "for i in dt_pred:\n",
    "    if i ==1:\n",
    "        count_1 +=1\n",
    "    else:\n",
    "        count_0 +=1\n",
    "\n",
    "if count_1 >= count_0:\n",
    "    print(\"상승을 에측\")\n",
    "else:\n",
    "    print(\"하락을 예측\")\n"
   ]
  },
  {
   "cell_type": "code",
   "execution_count": 15,
   "id": "62f0049d",
   "metadata": {},
   "outputs": [],
   "source": [
    "# 결정트리, Random Forest, 로지스틱 회귀를 위한 사이킷런 Classifier 클래스 생성\n",
    "df = pd.read_csv(f'csv/삼성전자_test_data_9.csv')\n",
    "\n",
    "# DecisionTreeClassifier 학습/예측/평가\n",
    "dt_pred = dt_clf.predict(np.expand_dims(df['sentiment'].values,axis=1))\n",
    "\n",
    "\n",
    "# RandomForestClassifier 학습/예측/평가\n",
    "rf_pred = rf_clf.predict(np.expand_dims(df['sentiment'].values,axis=1))\n",
    "\n",
    "\n",
    "# LogisticRegression 학습/예측/평가\n",
    "lr_pred = lr_clf.predict(np.expand_dims(df['sentiment'].values,axis=1))\n"
   ]
  },
  {
   "cell_type": "code",
   "execution_count": 16,
   "id": "e8d2da06",
   "metadata": {},
   "outputs": [
    {
     "name": "stdout",
     "output_type": "stream",
     "text": [
      "상승을 에측\n"
     ]
    }
   ],
   "source": [
    "count_1 = 0\n",
    "count_0 = 0\n",
    "for i in dt_pred:\n",
    "    if i ==1:\n",
    "        count_1 +=1\n",
    "    else:\n",
    "        count_0 +=1\n",
    "\n",
    "if count_1 >= count_0:\n",
    "    print(\"상승을 에측\")\n",
    "else:\n",
    "    print(\"하락을 예측\")"
   ]
  },
  {
   "cell_type": "code",
   "execution_count": 17,
   "id": "78338acc",
   "metadata": {},
   "outputs": [
    {
     "name": "stdout",
     "output_type": "stream",
     "text": [
      "[1 1 1 1 1 1 1 1 1 1 1 1 1 1 1 1 1 1 1 1 1 1 1 1 1 1 1 1 1 1 1 1 1 1]\n",
      "[1 1 1 1 1 1 1 1 1 1 1 1 1 1 1 1 1 1 1 1 1 1 1 1 1 1 1 1 1 1 1 1 1 1]\n",
      "[1 1 1 1 1 1 1 1 1 1 1 1 1 1 1 1 1 1 1 1 1 1 1 1 1 1 1 1 1 1 1 1 1 1]\n"
     ]
    }
   ],
   "source": [
    "print(dt_pred)\n",
    "print(rf_pred)\n",
    "print(lr_pred)"
   ]
  },
  {
   "cell_type": "code",
   "execution_count": null,
   "id": "ceaf0d53",
   "metadata": {},
   "outputs": [],
   "source": []
  }
 ],
 "metadata": {
  "kernelspec": {
   "display_name": "CapstonStockProject",
   "language": "python",
   "name": "capstonestockproject"
  },
  "language_info": {
   "codemirror_mode": {
    "name": "ipython",
    "version": 3
   },
   "file_extension": ".py",
   "mimetype": "text/x-python",
   "name": "python",
   "nbconvert_exporter": "python",
   "pygments_lexer": "ipython3",
   "version": "3.9.16"
  }
 },
 "nbformat": 4,
 "nbformat_minor": 5
}
