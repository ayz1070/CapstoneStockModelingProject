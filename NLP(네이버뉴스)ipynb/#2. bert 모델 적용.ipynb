{
 "cells": [
  {
   "cell_type": "code",
   "execution_count": 7,
   "id": "4bd13d8c",
   "metadata": {},
   "outputs": [
    {
     "name": "stdout",
     "output_type": "stream",
     "text": [
      "회사명(csv 파일명) : 삼성전자\n",
      "몇 번째 테스트? 15\n"
     ]
    },
    {
     "name": "stderr",
     "output_type": "stream",
     "text": [
      "You passed along `num_labels=3` with an incompatible id to label map: {'0': 'NEGATIVE', '1': 'POSITIVE'}. The number of labels wil be overwritten to 2.\n",
      "Some weights of BartForSequenceClassification were not initialized from the model checkpoint at hyunwoongko/kobart and are newly initialized: ['classification_head.dense.weight', 'classification_head.dense.bias', 'classification_head.out_proj.weight', 'classification_head.out_proj.bias']\n",
      "You should probably TRAIN this model on a down-stream task to be able to use it for predictions and inference.\n"
     ]
    },
    {
     "name": "stdout",
     "output_type": "stream",
     "text": [
      "<class 'list'>\n"
     ]
    },
    {
     "name": "stderr",
     "output_type": "stream",
     "text": [
      "Asking to truncate to max_length but no maximum length is provided and the model has no predefined maximum length. Default to no truncation.\n"
     ]
    }
   ],
   "source": [
    "# 남은 할일 \n",
    "# 기사 제목 끌고 와서 라벨링 해준다\n",
    "# 그 데이터 가지고 정확도를 예측한다. 이 때 사용될 건 accuracy, f1 score \n",
    "\n",
    "import pandas as pd\n",
    "from konlpy.tag import Hannanum  # Hannanum 형태소 분석기 불러오기\n",
    "import torch\n",
    "from transformers import AutoTokenizer, AutoModelForSequenceClassification\n",
    "\n",
    "search = input(\"회사명(csv 파일명) : \")\n",
    "num = int(input(\"몇 번째 테스트? \"))\n",
    "# csv\n",
    "df = pd.read_csv(f'csv/{search} 뉴스원문{num}.csv')\n",
    "\n",
    "# KoELECTRA 모델 로드\n",
    "model_name = \"hyunwoongko/kobart\"\n",
    "tokenizer = AutoTokenizer.from_pretrained(model_name)\n",
    "model = AutoModelForSequenceClassification.from_pretrained(model_name)\n",
    "device = torch.device(\"cuda\" if torch.cuda.is_available() else \"cpu\")\n",
    "model.to(device)\n",
    "\n",
    "# 형태소 분석 함수\n",
    "hannanum = Hannanum()  # Hannanum 형태소 분석기 객체 생성\n",
    "def tokenize(text):\n",
    "    return hannanum.morphs(text)\n",
    "\n",
    "# 이거 수정하고 결국에는 라벨링이 필요하다......\n",
    "\n",
    "# df['content'] = df['title']\n",
    "\n",
    "# content 열에 대해 형태소 분석 적용\n",
    "df['title'] = df['title'].apply(tokenize)\n",
    "\n",
    "# 감성 분석을 위한 전처리 함수\n",
    "def preprocess(text):\n",
    "    inputs = tokenizer(text, padding=True, truncation=True, return_tensors=\"pt\")\n",
    "    inputs.to(device)\n",
    "    return inputs\n",
    "\n",
    "# 예측 함수\n",
    "def predict(inputs):\n",
    "    outputs = model(**inputs)\n",
    "    logits = outputs.logits\n",
    "    probs = logits.softmax(dim=-1)\n",
    "    return probs[0].detach().cpu().numpy()\n",
    "\n",
    "# content 열에 대해 예측 수행\n",
    "df['sentiment'] = df['title'].apply(lambda x: predict(preprocess(' '.join(x))))\n",
    "\n",
    "# 감성 분석 결과를 문자 형식으로 변환\n",
    "# 조금 더 디테일하게 4.7 이하 부정, 5.3 이상 긍정, 그 외 중립 추가\n",
    "def convert_sentiment(probs):\n",
    "    if probs[0] < 0.5:\n",
    "        return 0\n",
    "    elif probs[0]>= 0.5:\n",
    "        return 1\n",
    "    else:\n",
    "        return '중립'\n",
    "\n",
    "df['sentiment'] = df['sentiment'].apply(convert_sentiment)"
   ]
  },
  {
   "cell_type": "code",
   "execution_count": 8,
   "id": "5c5badce",
   "metadata": {},
   "outputs": [
    {
     "name": "stdout",
     "output_type": "stream",
     "text": [
      "0     [삼성전자, ,, 갤럭시·노트북·TV서, ', 자, 가, 수, 이, 리, ', 국내...\n",
      "1        [[, 특징주, ], 삼성전자·SK하이닉스,, 52주, 신, 고, 가, 아, 기록]\n",
      "2           [작년, 주주, 배당액, 1위, 는, 삼성전자…총, 배당금, 은, 6.7%↓]\n",
      "3          [갤S22·갤북, 스스로, 고친다…삼성전자, ‘자, 가, 수리’, 국내, 도입]\n",
      "4            [\", 청년, 에, 일경험\"…SK하이닉스·삼성전자, 등, 2100명, 모집]\n",
      "5              [삼성전자, 갤럭시, 제품, 직접, 수리, 가능, 하, 어, 지, ㄴ다]\n",
      "6     [\", 이번, 엔, 중동\"…삼성전자,, 두바, 이, 리조트, 서, 2023년형, T...\n",
      "7            [삼성전자, ,, 두바이, 서, 2023년형, 네오QLED, 신제품, 선봬]\n",
      "8     [\", 이제, 집, 에서, 고치, 세, 요, \", ..., 삼성전자, ,, ', 자...\n",
      "9       [\"머스크, 불, 만, 터트리, ㄹ, 지경인데\"…삼성전자·하이닉스, 웃, 는, 이유]\n",
      "10               [삼성전자, 신, 고, 가, 아, 행진…\"8만전자, 갈, ㄴ다, \"]\n",
      "11       [\", 삼성전자, ,, 책임경영, 필요성↑…이재용, 등기이사, 복귀, 가능성, \"]\n",
      "12          [삼성전자, ,, 외국, 이, ㄴ, 폭풍매수, 에, '7만전자, 굳히기, ']\n",
      "13       [삼성전자, ,, 7.1만원, 진입…반도체株, 훈풍, 지, 속, [, 특징주, ]]\n",
      "14    [\", 삼성전자, 가, 또, ?\"..., 신제품, 에, 적용, 하, ㄴ, ', 첨단...\n",
      "15    [[, 특징주, ], 날개, 단, 삼성전자‧SK하이닉스…또, 52주, 최고, 가, 경신]\n",
      "16    [돈다발, 들, 고, 달리, 어, 오, ㄴ, 외국인들…“삼성전자, 사, 고, 싶습니다”]\n",
      "17    [신, 고, 가, 아, 행진, 삼성전자·SK하이닉스…\"반도체, 질주, 는, 계속, ...\n",
      "18    [', 반갑, 다, ,, 삼성전자'…반도체주, 랠리, 에, 1년, 만에, 7만200...\n",
      "19    [삼성전자, ', 보행, 보조, 로봇, ', 특허, 또, 추가…'봇핏', 출시, 임...\n",
      "20    [[, 증시신상품, ], 한화투자증권, ,, ', 한화, 델타랩, 삼성전자우, ',...\n",
      "21          [삼성전자·SK하이닉스, 연고점…반도체주, 랠리, 이, 이, 어, 지, ㄹ까]\n",
      "22    [삼성전자, vs, TSMC…'AI, 불, ㅁ, ', 반도체, 수혜주, 는, 어디, ?]\n",
      "23        [코스피, ,, 1년, 만, 에, 2580선…'파죽지세', 삼성전자, 7.2만대]\n",
      "24    [[, STOCK, ], \", 땡큐, 엔비디아\", 삼성전자·SK하이닉스,, 나란히,...\n",
      "25    [동학, 개미, 들, ,, '9만전자', 바라, 아, 보, 는, 삼성전자, 팔, 는...\n",
      "26     [삼성전자, '8만전자', 가, 코앞, ?..., 52주, 신, 고, 가, 아, 경신]\n",
      "27    [코스피, 1, %, 넘, 게, 오르, 며, ‘연중, 최고치’···삼성전자·SK하이...\n",
      "28    [[, 기업, ], 삼성전자, ,, 스마트폰, 등, ', 자가수리, ', 서비스, 시작]\n",
      "Name: title, dtype: object\n",
      "0     0\n",
      "1     0\n",
      "2     0\n",
      "3     0\n",
      "4     0\n",
      "5     1\n",
      "6     0\n",
      "7     0\n",
      "8     0\n",
      "9     0\n",
      "10    1\n",
      "11    1\n",
      "12    1\n",
      "13    0\n",
      "14    0\n",
      "15    0\n",
      "16    0\n",
      "17    1\n",
      "18    1\n",
      "19    0\n",
      "20    0\n",
      "21    0\n",
      "22    0\n",
      "23    1\n",
      "24    0\n",
      "25    1\n",
      "26    0\n",
      "27    0\n",
      "28    1\n",
      "Name: sentiment, dtype: int64\n"
     ]
    }
   ],
   "source": [
    "# csv 파일로 저장\n",
    "df.to_csv(f'csv/{search}_주가뉴스(KoBart season2){num}.csv', index=False)\n",
    "\n",
    "# 결과 확인\n",
    "print(df['title'])\n",
    "print(df['sentiment'])"
   ]
  }
 ],
 "metadata": {
  "kernelspec": {
   "display_name": "CapstonStockProject",
   "language": "python",
   "name": "capstonestockproject"
  },
  "language_info": {
   "codemirror_mode": {
    "name": "ipython",
    "version": 3
   },
   "file_extension": ".py",
   "mimetype": "text/x-python",
   "name": "python",
   "nbconvert_exporter": "python",
   "pygments_lexer": "ipython3",
   "version": "3.9.16"
  }
 },
 "nbformat": 4,
 "nbformat_minor": 5
}
